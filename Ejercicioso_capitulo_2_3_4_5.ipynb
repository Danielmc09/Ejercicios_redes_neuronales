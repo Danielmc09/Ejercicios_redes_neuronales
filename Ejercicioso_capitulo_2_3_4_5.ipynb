{
  "nbformat": 4,
  "nbformat_minor": 0,
  "metadata": {
    "colab": {
      "name": "Ejercicioso capitulo 2 3 4 5.ipynb",
      "provenance": [],
      "collapsed_sections": [],
      "authorship_tag": "ABX9TyNxGvenjvPrJB4NI8ckHwtB",
      "include_colab_link": true
    },
    "kernelspec": {
      "name": "python3",
      "display_name": "Python 3"
    },
    "language_info": {
      "name": "python"
    }
  },
  "cells": [
    {
      "cell_type": "markdown",
      "metadata": {
        "id": "view-in-github",
        "colab_type": "text"
      },
      "source": [
        "<a href=\"https://colab.research.google.com/github/Danielmc09/Ejercicios_redes_neuronales/blob/main/Ejercicioso_capitulo_2_3_4_5.ipynb\" target=\"_parent\"><img src=\"https://colab.research.google.com/assets/colab-badge.svg\" alt=\"Open In Colab\"/></a>"
      ]
    },
    {
      "cell_type": "markdown",
      "source": [
        "## Ejercicio Capitulo 2"
      ],
      "metadata": {
        "id": "cim-tywPLoO8"
      }
    },
    {
      "cell_type": "markdown",
      "source": [
        "### Ejercicio 2.2"
      ],
      "metadata": {
        "id": "tXI8KOcRNyQy"
      }
    },
    {
      "cell_type": "code",
      "execution_count": 3,
      "metadata": {
        "colab": {
          "base_uri": "https://localhost:8080/"
        },
        "id": "ouCtVkrJJ6dn",
        "outputId": "1f8b8ebf-1ebd-418a-c735-be39e3a0866e"
      },
      "outputs": [
        {
          "output_type": "stream",
          "name": "stdout",
          "text": [
            "Ingrese su nombre: Daniel\n",
            "Hola Daniel como estas?\n"
          ]
        }
      ],
      "source": [
        "name_user = input('Ingrese su nombre: ')\n",
        "print('Hola {} como estas?'.format(name_user))"
      ]
    },
    {
      "cell_type": "markdown",
      "source": [
        "### Ejercicio 2.3"
      ],
      "metadata": {
        "id": "RUwRacVTLx8e"
      }
    },
    {
      "cell_type": "code",
      "source": [
        "hours = float(input('ingresa las horas: '))\n",
        "rate = float(input('ingresa la tarifa: '))\n",
        "gross_pay = round(hours * rate, 2)\n",
        "print('El salario bruto es {}'.format(gross_pay))"
      ],
      "metadata": {
        "colab": {
          "base_uri": "https://localhost:8080/"
        },
        "id": "GYFxWSG0Ke9K",
        "outputId": "b1ab8d33-78df-44a1-9b68-ff2e082c1fcf"
      },
      "execution_count": 8,
      "outputs": [
        {
          "output_type": "stream",
          "name": "stdout",
          "text": [
            "ingresa las horas: 35\n",
            "ingresa la tarifa: 2.75\n",
            "El salario bruto es 96.25\n"
          ]
        }
      ]
    },
    {
      "cell_type": "markdown",
      "source": [
        "### Ejercicio 2.4"
      ],
      "metadata": {
        "id": "CUwWYObxL2Zz"
      }
    },
    {
      "cell_type": "code",
      "source": [
        "width = 17\n",
        "height = 12.0\n",
        "valor1 = width//2\n",
        "print('valor de la expresión {0} tipo de la expresión {1}'.format(valor1, type(valor1)))\n",
        "valor2 = width/2.0\n",
        "print('valor de la expresión {0} tipo de la expresión {1}'.format(valor2, type(valor2)))\n",
        "valor3 = height/3\n",
        "print('valor de la expresión {0} tipo de la expresión {1}'.format(valor3, type(valor3)))\n",
        "valor4 = 1 + 2 * 5\n",
        "print('valor de la expresión {0} tipo de la expresión {1}'.format(valor4, type(valor4)))\n"
      ],
      "metadata": {
        "colab": {
          "base_uri": "https://localhost:8080/"
        },
        "id": "imvHctaLLNbl",
        "outputId": "91aa52bf-9b7e-4ac3-b696-b78dbbbe8ea3"
      },
      "execution_count": 13,
      "outputs": [
        {
          "output_type": "stream",
          "name": "stdout",
          "text": [
            "valor de la expresión 8 tipo de la expresión <class 'int'>\n",
            "valor de la expresión 8.5 tipo de la expresión <class 'float'>\n",
            "valor de la expresión 4.0 tipo de la expresión <class 'float'>\n",
            "valor de la expresión 11 tipo de la expresión <class 'int'>\n"
          ]
        }
      ]
    },
    {
      "cell_type": "markdown",
      "source": [
        "###Ejercicio 2.5"
      ],
      "metadata": {
        "id": "bwItuyqeMt08"
      }
    },
    {
      "cell_type": "code",
      "source": [
        "celsius_temperature = float(input('ingresa la temperatura en celsius: '))\n",
        "fahrenheit = (celsius_temperature * 1.8) + 32\n",
        "print('la temperatura en celsius es {0}° y en fahrenheit es {1}°'.format(celsius_temperature, fahrenheit))"
      ],
      "metadata": {
        "colab": {
          "base_uri": "https://localhost:8080/"
        },
        "id": "vbMbD-vqMxXT",
        "outputId": "db65f62a-ec6d-40d5-f70c-a15ea07e3a54"
      },
      "execution_count": 16,
      "outputs": [
        {
          "output_type": "stream",
          "name": "stdout",
          "text": [
            "ingresa la temperatura en celsius: 25\n",
            "la temperatura en celsius es 25.0° y en fahrenheit es 77.0°\n"
          ]
        }
      ]
    },
    {
      "cell_type": "markdown",
      "source": [
        "##Ejercicios capitulo 3"
      ],
      "metadata": {
        "id": "XM1Z779nNwYr"
      }
    },
    {
      "cell_type": "markdown",
      "source": [
        "###Ejercicios 3.1"
      ],
      "metadata": {
        "id": "R3tSUqKcN6YA"
      }
    },
    {
      "cell_type": "code",
      "source": [
        "hours = float(input('ingresa las horas: '))\n",
        "rate = float(input('ingresa la tarifa: '))\n",
        "if hours <= 40:\n",
        "  gross_pay = hours * rate\n",
        "else: \n",
        "  gross_pay = ((hours - 40) * (1.5 * rate)) + (40 * rate)\n",
        "\n",
        "print('El salario bruto es {}'.format(gross_pay))"
      ],
      "metadata": {
        "colab": {
          "base_uri": "https://localhost:8080/"
        },
        "outputId": "79d000a1-156a-4953-b0f9-e622e4a644c2",
        "id": "Gm-GT-oyO9qT"
      },
      "execution_count": 23,
      "outputs": [
        {
          "output_type": "stream",
          "name": "stdout",
          "text": [
            "ingresa las horas: 45\n",
            "ingresa la tarifa: 10\n",
            "El salario bruto es 475.0\n"
          ]
        }
      ]
    },
    {
      "cell_type": "markdown",
      "source": [
        "###Ejercicios 3.2"
      ],
      "metadata": {
        "id": "H5jmU2HHVgNV"
      }
    },
    {
      "cell_type": "code",
      "source": [
        "hours = input('ingresa las horas: ')\n",
        "rate = input('ingresa la tarifa: ')\n",
        "try:\n",
        "  if hours <= 40:\n",
        "    gross_pay = hours * rate\n",
        "  else: \n",
        "    gross_pay = ((hours - 40) * (1.5 * rate)) + (40 * rate)\n",
        "except:\n",
        "  if not hours.isnumeric():\n",
        "    print('Error, please enter numeric input')\n",
        "  elif not rate.isnumeric():\n",
        "    print('Error, please enter numeric input')\n",
        "  else:\n",
        "    print('El salario bruto es {}'.format(gross_pay))"
      ],
      "metadata": {
        "colab": {
          "base_uri": "https://localhost:8080/"
        },
        "id": "k6i_h1z_Vh3_",
        "outputId": "0bee046a-594b-41ab-e8c5-30887295d6b5"
      },
      "execution_count": 33,
      "outputs": [
        {
          "output_type": "stream",
          "name": "stdout",
          "text": [
            "ingresa las horas: 45\n",
            "ingresa la tarifa: 10\n",
            "El salario bruto es 475.0\n"
          ]
        }
      ]
    },
    {
      "cell_type": "markdown",
      "source": [
        "###Ejercicios 3.3"
      ],
      "metadata": {
        "id": "9xpWPZc8W9uF"
      }
    },
    {
      "cell_type": "code",
      "source": [
        "score = float(input('ingrese una puntuación: '))\n",
        "if score >= 0.9 and score <= 1:\n",
        "  print('A')\n",
        "elif score >= 0.8 and score <= 0.9:\n",
        "  print('B')\n",
        "elif score >= 0.7 and score <= 0.8:\n",
        "  print('C')\n",
        "elif score >= 0.6 and score <= 0.7:\n",
        "  print('D')\n",
        "elif score < 0.6:\n",
        "  print('F') \n",
        "else:\n",
        "  print('La puntuación esta fuera de rango')"
      ],
      "metadata": {
        "colab": {
          "base_uri": "https://localhost:8080/"
        },
        "id": "4h9-rS36V7VO",
        "outputId": "903efa79-9877-4ce3-d82c-e34969397a56"
      },
      "execution_count": 52,
      "outputs": [
        {
          "output_type": "stream",
          "name": "stdout",
          "text": [
            "ingrese una puntuación: 0.95\n",
            "A\n"
          ]
        }
      ]
    },
    {
      "cell_type": "markdown",
      "source": [
        "##Ejercicios capitulo 4\n"
      ],
      "metadata": {
        "id": "w2gMNZGGidND"
      }
    },
    {
      "cell_type": "code",
      "source": [
        "def fred():\n",
        "  print(\"Zap\")\n",
        "def jane():\n",
        "  print(\"ABC\")\n",
        "jane()\n",
        "fred()\n",
        "jane()\n",
        "\n",
        "'La respuesta es d) ABC Zap ABC'"
      ],
      "metadata": {
        "colab": {
          "base_uri": "https://localhost:8080/"
        },
        "id": "wP2uWby6igXM",
        "outputId": "79af13ca-8372-4c42-bac6-66839f23c83b"
      },
      "execution_count": 53,
      "outputs": [
        {
          "output_type": "stream",
          "name": "stdout",
          "text": [
            "ABC\n",
            "Zap\n",
            "ABC\n"
          ]
        }
      ]
    },
    {
      "cell_type": "markdown",
      "source": [
        "###Ejercicios 4.6"
      ],
      "metadata": {
        "id": "xKi5rnw0jQq3"
      }
    },
    {
      "cell_type": "code",
      "source": [
        "def computepay(hours, rate):\n",
        "  if hours <= 40:\n",
        "    gross_pay = hours * rate\n",
        "  else: \n",
        "    gross_pay = ((hours - 40) * (1.5 * rate)) + (40 * rate)\n",
        "  return gross_pay\n",
        "\n",
        "hours = float(input('ingresa las horas: '))\n",
        "rate = float(input('ingresa la tarifa: '))\n",
        "pay = computepay(hours, rate)\n",
        "print('El salario bruto es {}'.format(pay))"
      ],
      "metadata": {
        "colab": {
          "base_uri": "https://localhost:8080/"
        },
        "outputId": "4d8b0ceb-36f6-484d-92de-d6352399f3ba",
        "id": "1y_UNu_xi0q-"
      },
      "execution_count": 58,
      "outputs": [
        {
          "output_type": "stream",
          "name": "stdout",
          "text": [
            "ingresa las horas: 45\n",
            "ingresa la tarifa: 10\n",
            "El salario bruto es 475.0\n"
          ]
        }
      ]
    },
    {
      "cell_type": "markdown",
      "source": [
        "###Ejercicios 4.7"
      ],
      "metadata": {
        "id": "6-tuYhhjlwHz"
      }
    },
    {
      "cell_type": "code",
      "source": [
        "def computegrade(score):\n",
        "  if score >= 0.9 and score <= 1:\n",
        "    print('A')\n",
        "  elif score >= 0.8 and score <= 0.9:\n",
        "    print('B')\n",
        "  elif score >= 0.7 and score <= 0.8:\n",
        "    print('C')\n",
        "  elif score >= 0.6 and score <= 0.7:\n",
        "    print('D')\n",
        "  elif score < 0.6:\n",
        "    print('F') \n",
        "  else:\n",
        "    print('La puntuación esta fuera de rango')\n",
        "\n",
        "score = float(input('ingrese una puntuación: '))\n",
        "computegrade(score)"
      ],
      "metadata": {
        "colab": {
          "base_uri": "https://localhost:8080/"
        },
        "id": "lz2T3BX-jvtm",
        "outputId": "7a3725ee-c6d1-4ba6-df62-01059dac86b3"
      },
      "execution_count": 61,
      "outputs": [
        {
          "output_type": "stream",
          "name": "stdout",
          "text": [
            "ingrese una puntuación: 10.0\n",
            "La puntuación esta fuera de rango\n"
          ]
        }
      ]
    },
    {
      "cell_type": "markdown",
      "source": [
        "##Ejercicios capitulo 5\n"
      ],
      "metadata": {
        "id": "Loti9dgylzcD"
      }
    },
    {
      "cell_type": "markdown",
      "source": [
        "###Ejercicios 5.1"
      ],
      "metadata": {
        "id": "UWUxY5MZmAyC"
      }
    },
    {
      "cell_type": "code",
      "source": [
        "num = 0\n",
        "tot = 0.0\n",
        "while True:\n",
        "    number = input(\"Enter a number: \")\n",
        "    if number == 'done':\n",
        "        break\n",
        "    try :\n",
        "        num1 = float(number)\n",
        "    except:\n",
        "        print('Invailed Input')\n",
        "        continue\n",
        "    num = num+1\n",
        "    tot = tot + num1\n",
        "print (tot,num,tot/num)"
      ],
      "metadata": {
        "colab": {
          "base_uri": "https://localhost:8080/"
        },
        "id": "B_FVFlgYlIyx",
        "outputId": "813174e9-5aeb-445e-f14d-81d07f652645"
      },
      "execution_count": 65,
      "outputs": [
        {
          "output_type": "stream",
          "name": "stdout",
          "text": [
            "Enter a number: 4\n",
            "Enter a number: 5\n",
            "Enter a number: bad data\n",
            "Invailed Input\n",
            "Enter a number: 7\n",
            "Enter a number: done\n",
            "16.0 3 5.333333333333333\n"
          ]
        }
      ]
    },
    {
      "cell_type": "markdown",
      "source": [
        "###Ejercicios 5.2"
      ],
      "metadata": {
        "id": "b_U5xCHpmFYd"
      }
    },
    {
      "cell_type": "code",
      "source": [
        "max = None\n",
        "min = None\n",
        "count = 0\n",
        "\n",
        "while True:\n",
        "    prompt = input ('Enter number: ')\n",
        "    if prompt == \"done\":\n",
        "        print (\"Maximum: \" + str(max))\n",
        "        print (\"Minimum: \" + str(min))\n",
        "        break\n",
        "        \n",
        "    else:\n",
        "        try:\n",
        "            if count == 0:\n",
        "                max = float (prompt)\n",
        "                min = float (prompt)\n",
        "                count = 1\n",
        "         \n",
        "            else:\n",
        "                if float (prompt) > max:\n",
        "                    max = float (prompt)\n",
        "                else:\n",
        "                    if float (prompt) < min:\n",
        "                        min = float (prompt)\n",
        "            \n",
        "        except:\n",
        "            print ('Enter only numbers ! ! !')"
      ],
      "metadata": {
        "colab": {
          "base_uri": "https://localhost:8080/"
        },
        "id": "V1u09V5gmH2Z",
        "outputId": "1227ec66-5f55-4399-a934-6758598fc1a9"
      },
      "execution_count": 66,
      "outputs": [
        {
          "output_type": "stream",
          "name": "stdout",
          "text": [
            "Enter number: 1\n",
            "Enter number: 2\n",
            "Enter number: 3\n",
            "Enter number: 4\n",
            "Enter number: 5\n",
            "Enter number: 6\n",
            "Enter number: 7\n",
            "Enter number: 8\n",
            "Enter number: 9\n",
            "Enter number: 10\n",
            "Enter number: 542\n",
            "Enter number: done\n",
            "Maximum: 542.0\n",
            "Minimum: 1.0\n"
          ]
        }
      ]
    },
    {
      "cell_type": "markdown",
      "source": [
        "##Ejercicio 2 del trabajo en Python\n",
        "\n",
        "Se desea comprar un vehículo financiado: La forma de pago es una cuota inicial del 20% y el 80% restante en 40 cuotas mensuales; a cada cuota mensual se le carga el 2% sobre el saldo de la deuda. Escriba un programa que reciba como entrada el costo del vehículo, y devuelva el valor de la cuota inicial y de cada una de las cuotas mensuales"
      ],
      "metadata": {
        "id": "HKASa_benEZt"
      }
    },
    {
      "cell_type": "code",
      "source": [
        "def costoVehiculo(valor):\n",
        "    cuotaIni = (valor * 0.2)\n",
        "    cuotaSec = (valor - cuotaIni)\n",
        "    cuotaMen = (cuotaSec / 40)\n",
        "    totalPag = 0\n",
        "    print(\"El vehiculo tiene costo de: \", valor)\n",
        "    print(\"--------------------------------------\")\n",
        "\n",
        "    print(\"La cuota inicial del vehiculo es: \", cuotaIni)\n",
        "    print(\"--------------------------------------------\")\n",
        "\n",
        "    for i in range(40):\n",
        "        vIrCuotaAct = cuotaMen + ((cuotaSec - cuotaMen) * 0.02)\n",
        "        cuotaSec -= cuotaMen\n",
        "        print(\"El valor de cuota N\" + str(i + 1) + \"es:\\n\")\n",
        "        print(\"$ \" + str(int(vIrCuotaAct)))\n",
        "        print(\"**-**-**-**-**-**-**-**-**-**-**-**-**-**-**-**-**\")\n",
        "        totalPag += vIrCuotaAct\n",
        "\n",
        "valor = float(input(\"ingrese el valor del vehiculo que desea financiar:\"))\n",
        "costoVehiculo(valor)"
      ],
      "metadata": {
        "colab": {
          "base_uri": "https://localhost:8080/"
        },
        "id": "2nYNbVy9nDyP",
        "outputId": "3d05bf84-755a-45f3-f7e6-d0ccee2ab0d8"
      },
      "execution_count": 70,
      "outputs": [
        {
          "output_type": "stream",
          "name": "stdout",
          "text": [
            "ingrese el valor del vehiculo que desea financiar:25000000\n",
            "El vehiculo tiene costo de:  25000000.0\n",
            "--------------------------------------\n",
            "La cuota inicial del vehiculo es:  5000000.0\n",
            "--------------------------------------------\n",
            "El valor de cuota N1es:\n",
            "\n",
            "$ 890000\n",
            "**-**-**-**-**-**-**-**-**-**-**-**-**-**-**-**-**\n",
            "El valor de cuota N2es:\n",
            "\n",
            "$ 880000\n",
            "**-**-**-**-**-**-**-**-**-**-**-**-**-**-**-**-**\n",
            "El valor de cuota N3es:\n",
            "\n",
            "$ 870000\n",
            "**-**-**-**-**-**-**-**-**-**-**-**-**-**-**-**-**\n",
            "El valor de cuota N4es:\n",
            "\n",
            "$ 860000\n",
            "**-**-**-**-**-**-**-**-**-**-**-**-**-**-**-**-**\n",
            "El valor de cuota N5es:\n",
            "\n",
            "$ 850000\n",
            "**-**-**-**-**-**-**-**-**-**-**-**-**-**-**-**-**\n",
            "El valor de cuota N6es:\n",
            "\n",
            "$ 840000\n",
            "**-**-**-**-**-**-**-**-**-**-**-**-**-**-**-**-**\n",
            "El valor de cuota N7es:\n",
            "\n",
            "$ 830000\n",
            "**-**-**-**-**-**-**-**-**-**-**-**-**-**-**-**-**\n",
            "El valor de cuota N8es:\n",
            "\n",
            "$ 820000\n",
            "**-**-**-**-**-**-**-**-**-**-**-**-**-**-**-**-**\n",
            "El valor de cuota N9es:\n",
            "\n",
            "$ 810000\n",
            "**-**-**-**-**-**-**-**-**-**-**-**-**-**-**-**-**\n",
            "El valor de cuota N10es:\n",
            "\n",
            "$ 800000\n",
            "**-**-**-**-**-**-**-**-**-**-**-**-**-**-**-**-**\n",
            "El valor de cuota N11es:\n",
            "\n",
            "$ 790000\n",
            "**-**-**-**-**-**-**-**-**-**-**-**-**-**-**-**-**\n",
            "El valor de cuota N12es:\n",
            "\n",
            "$ 780000\n",
            "**-**-**-**-**-**-**-**-**-**-**-**-**-**-**-**-**\n",
            "El valor de cuota N13es:\n",
            "\n",
            "$ 770000\n",
            "**-**-**-**-**-**-**-**-**-**-**-**-**-**-**-**-**\n",
            "El valor de cuota N14es:\n",
            "\n",
            "$ 760000\n",
            "**-**-**-**-**-**-**-**-**-**-**-**-**-**-**-**-**\n",
            "El valor de cuota N15es:\n",
            "\n",
            "$ 750000\n",
            "**-**-**-**-**-**-**-**-**-**-**-**-**-**-**-**-**\n",
            "El valor de cuota N16es:\n",
            "\n",
            "$ 740000\n",
            "**-**-**-**-**-**-**-**-**-**-**-**-**-**-**-**-**\n",
            "El valor de cuota N17es:\n",
            "\n",
            "$ 730000\n",
            "**-**-**-**-**-**-**-**-**-**-**-**-**-**-**-**-**\n",
            "El valor de cuota N18es:\n",
            "\n",
            "$ 720000\n",
            "**-**-**-**-**-**-**-**-**-**-**-**-**-**-**-**-**\n",
            "El valor de cuota N19es:\n",
            "\n",
            "$ 710000\n",
            "**-**-**-**-**-**-**-**-**-**-**-**-**-**-**-**-**\n",
            "El valor de cuota N20es:\n",
            "\n",
            "$ 700000\n",
            "**-**-**-**-**-**-**-**-**-**-**-**-**-**-**-**-**\n",
            "El valor de cuota N21es:\n",
            "\n",
            "$ 690000\n",
            "**-**-**-**-**-**-**-**-**-**-**-**-**-**-**-**-**\n",
            "El valor de cuota N22es:\n",
            "\n",
            "$ 680000\n",
            "**-**-**-**-**-**-**-**-**-**-**-**-**-**-**-**-**\n",
            "El valor de cuota N23es:\n",
            "\n",
            "$ 670000\n",
            "**-**-**-**-**-**-**-**-**-**-**-**-**-**-**-**-**\n",
            "El valor de cuota N24es:\n",
            "\n",
            "$ 660000\n",
            "**-**-**-**-**-**-**-**-**-**-**-**-**-**-**-**-**\n",
            "El valor de cuota N25es:\n",
            "\n",
            "$ 650000\n",
            "**-**-**-**-**-**-**-**-**-**-**-**-**-**-**-**-**\n",
            "El valor de cuota N26es:\n",
            "\n",
            "$ 640000\n",
            "**-**-**-**-**-**-**-**-**-**-**-**-**-**-**-**-**\n",
            "El valor de cuota N27es:\n",
            "\n",
            "$ 630000\n",
            "**-**-**-**-**-**-**-**-**-**-**-**-**-**-**-**-**\n",
            "El valor de cuota N28es:\n",
            "\n",
            "$ 620000\n",
            "**-**-**-**-**-**-**-**-**-**-**-**-**-**-**-**-**\n",
            "El valor de cuota N29es:\n",
            "\n",
            "$ 610000\n",
            "**-**-**-**-**-**-**-**-**-**-**-**-**-**-**-**-**\n",
            "El valor de cuota N30es:\n",
            "\n",
            "$ 600000\n",
            "**-**-**-**-**-**-**-**-**-**-**-**-**-**-**-**-**\n",
            "El valor de cuota N31es:\n",
            "\n",
            "$ 590000\n",
            "**-**-**-**-**-**-**-**-**-**-**-**-**-**-**-**-**\n",
            "El valor de cuota N32es:\n",
            "\n",
            "$ 580000\n",
            "**-**-**-**-**-**-**-**-**-**-**-**-**-**-**-**-**\n",
            "El valor de cuota N33es:\n",
            "\n",
            "$ 570000\n",
            "**-**-**-**-**-**-**-**-**-**-**-**-**-**-**-**-**\n",
            "El valor de cuota N34es:\n",
            "\n",
            "$ 560000\n",
            "**-**-**-**-**-**-**-**-**-**-**-**-**-**-**-**-**\n",
            "El valor de cuota N35es:\n",
            "\n",
            "$ 550000\n",
            "**-**-**-**-**-**-**-**-**-**-**-**-**-**-**-**-**\n",
            "El valor de cuota N36es:\n",
            "\n",
            "$ 540000\n",
            "**-**-**-**-**-**-**-**-**-**-**-**-**-**-**-**-**\n",
            "El valor de cuota N37es:\n",
            "\n",
            "$ 530000\n",
            "**-**-**-**-**-**-**-**-**-**-**-**-**-**-**-**-**\n",
            "El valor de cuota N38es:\n",
            "\n",
            "$ 520000\n",
            "**-**-**-**-**-**-**-**-**-**-**-**-**-**-**-**-**\n",
            "El valor de cuota N39es:\n",
            "\n",
            "$ 510000\n",
            "**-**-**-**-**-**-**-**-**-**-**-**-**-**-**-**-**\n",
            "El valor de cuota N40es:\n",
            "\n",
            "$ 500000\n",
            "**-**-**-**-**-**-**-**-**-**-**-**-**-**-**-**-**\n"
          ]
        }
      ]
    }
  ]
}